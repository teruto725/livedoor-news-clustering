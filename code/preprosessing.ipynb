{
 "cells": [
  {
   "cell_type": "code",
   "execution_count": 1,
   "metadata": {},
   "outputs": [
    {
     "name": "stdout",
     "output_type": "stream",
     "text": [
      "C:\\Users\\teruto\\Desktop\\sourcecode\\livedoor-news-clustering\n"
     ]
    }
   ],
   "source": [
    "cd ../"
   ]
  },
  {
   "cell_type": "code",
   "execution_count": 2,
   "metadata": {},
   "outputs": [
    {
     "name": "stdout",
     "output_type": "stream",
     "text": [
      "C:\\Users\\teruto\\Desktop\\sourcecode\\livedoor-news-clustering\\data\n"
     ]
    }
   ],
   "source": [
    "cd data"
   ]
  },
  {
   "cell_type": "code",
   "execution_count": 3,
   "metadata": {},
   "outputs": [],
   "source": [
    "\n",
    "import numpy as np\n",
    "import matplotlib.pyplot as plt\n",
    "import nltk\n",
    "import pandas as pd\n",
    "import jaconv"
   ]
  },
  {
   "cell_type": "code",
   "execution_count": 4,
   "metadata": {},
   "outputs": [
    {
     "name": "stdout",
     "output_type": "stream",
     "text": [
      "len(x): 7367\n",
      "['友人代表のスピーチ、独女はどうこなしている？', 'ネットで断ち切れない元カレとの縁', '相次ぐ芸能人の“すっぴん”披露\\u3000その時、独女の心境は？']\n",
      "len(t): 7367\n",
      "['.\\\\dokujo-tsushin', '.\\\\dokujo-tsushin', '.\\\\dokujo-tsushin']\n",
      "train : dev : test = 5000 : 500 : 500\n",
      "2\t本田圭佑のイチロー似作文が話題　「必ず世界一になる」 　 \n",
      "3\t【週末映画まとめ読み】“美しすぎる知の女神”優木まおみが「触らせて」\n",
      "6\t自宅で簡単！　ヨガポーズで「花粉症」をスッキリ解消\n",
      "{'.\\\\kaden-channel': 0, '.\\\\dokujo-tsushin': 1, '.\\\\sports-watch': 2, '.\\\\movie-enter': 3, '.\\\\livedoor-homme': 4, '.\\\\smax': 5, '.\\\\peachy': 6, '.\\\\it-life-hack': 7, '.\\\\topic-news': 8}\n"
     ]
    }
   ],
   "source": [
    "\"\"\"\n",
    "前処理：タイトルとカテゴリを抽出し、データセットを分割\n",
    "\"\"\"\n",
    "import glob\n",
    "from sklearn.model_selection import train_test_split\n",
    "\n",
    "x, t = list(), list()\n",
    "for fname in sorted(glob.glob(\"./*.xml\")):\n",
    "    fin = open(fname,'r',encoding=\"utf-8_sig\")\n",
    "    for line in fin:\n",
    "        if not line.strip().startswith('<field name=\"title\">'):\n",
    "            continue\n",
    "        # タイトル\n",
    "        text = line.strip().replace('<field name=\"title\"><![CDATA[', '').replace(\"]]></field>\", \"\")\n",
    "        x.append(text)\n",
    "        # カテゴリ\n",
    "        t.append(fname.split(\"/\")[-1].replace(\".xml\", \"\"))\n",
    "    fin.close()\n",
    "\n",
    "print(\"len(x): %d\" % len(x))\n",
    "print(x[:3])\n",
    "print(\"len(t): %d\" % len(t))\n",
    "print(t[:3])\n",
    "\n",
    "# まず訓練&検証用(90%)と評価用(10%)に分割\n",
    "x_traindev, x_test, t_traindev, t_test = train_test_split(x, t, test_size=0.1, random_state=0)\n",
    "\n",
    "# さらに訓練用(90%)と検証用(10%)に分割\n",
    "x_train, x_dev, t_train, t_dev = train_test_split(x_traindev, t_traindev, test_size=0.1, random_state=0)\n",
    "\n",
    "# train:dev:test = 5,000:500:500 に分割\n",
    "x_train, t_train = x_train[:5000], t_train[:5000]\n",
    "x_dev, t_dev = x_dev[:500], t_dev[:500]\n",
    "x_test, t_test = x_test[:500], t_test[:500]\n",
    "\n",
    "# ラベルをIDに変換\n",
    "label2id = dict()\n",
    "for label in set(t):\n",
    "    label2id[label] = len(label2id)\n",
    "t_train = [label2id[label] for label in t_train]\n",
    "t_dev = [label2id[label] for label in t_dev]\n",
    "t_test = [label2id[label] for label in t_test]\n",
    "\n",
    "print(\"train : dev : test = %d : %d : %d\" % (len(x_train), len(x_dev), len(x_test)))\n",
    "for text, label in zip(x_train[:3], t_train[:3]):\n",
    "    print(str(label) + \"\\t\" + text)\n",
    "print(label2id)"
   ]
  },
  {
   "cell_type": "code",
   "execution_count": 24,
   "metadata": {},
   "outputs": [],
   "source": [
    "#特徴量の抽出\n",
    "def add_flags_nums(df):\n",
    "    \n",
    "    #テキストの長さ\n",
    "    df[\"text_length\"] = np.zeros(df.shape[0])\n",
    "    for idx in range(df.shape[0]):\n",
    "        df[\"text_length\"].loc[idx] = len(df[\"text\"].loc[idx])\n",
    "    df[\"text_length\"] = df[\"text_length\"].astype(np.float64)\n",
    "    \n",
    "    #日付が入っているか\n",
    "    df[\"is_year\"] = df['text'].str.contains(r'(0+年)')\n",
    "    df[\"is_year\"] = (df[\"is_year\"]*1).astype(np.float64)\n",
    "    df[\"is_month\"] = df['text'].str.contains(r'(0+月)')\n",
    "    df[\"is_month\"] = (df[\"is_month\"]*1).astype(np.float64)\n",
    "    df[\"is_date\"] = df['text'].str.contains(r'(0+日)')\n",
    "    df[\"is_date\"] = (df[\"is_date\"]*1).astype(np.float64)\n",
    "    df[\"is_time\"] = df['text'].str.contains(r'(0+時)')\n",
    "    df[\"is_time\"] = (df[\"is_time\"]*1).astype(np.float64)\n",
    "    df[\"text\"] = df[\"text\"].str.replace(r'(0+年)',\"\")\n",
    "    df[\"text\"] = df[\"text\"].str.replace(r'(0+月)',\"\")\n",
    "    df[\"text\"] = df[\"text\"].str.replace(r'(0+日)',\"\")\n",
    "    df[\"text\"] = df[\"text\"].str.replace(r'(0+時)',\"\")\n",
    "    \n",
    "    \n",
    "    #はてなの個数\n",
    "    df[\"num_hatena\"] = df[\"text\"].str.count('\\?').astype(np.float64)\n",
    "    df[\"num_bikkuri\"] =df[\"text\"].str.count('!').astype(np.float64)\n",
    "    \n",
    "    #映画の文字列\n",
    "    df[\"is_eiga\"] = df[\"text\"].str.contains(\"映画\")\n",
    "    df[\"is_eiga\"] = (df[\"is_eiga\"]*1).astype(np.float64)\n",
    "    \n",
    "    #変なかっこがあるか\n",
    "    df[\"is_henkakko\"] = df[\"text\"].str.contains(\"【\")\n",
    "    df[\"is_henkakko\"] = (df[\"is_henkakko\"]*1).astype(np.float64)\n",
    "    df[\"text\"] = df[\"text\"].str.replace(\"【\",\"\")\n",
    "    df[\"text\"] = df[\"text\"].str.replace(\"】\",\"\")\n",
    "    \n",
    "    #普通カッコがあるか\n",
    "    df[\"is_normalkakko\"] = df[\"text\"].str.contains(\"｢\")\n",
    "    df[\"is_normalkakko\"] = (df[\"is_normalkakko\"]*1).astype(np.float64)\n",
    "    df[\"text\"] = df[\"text\"].str.replace(\"｢\",\"\")\n",
    "    df[\"text\"] = df[\"text\"].str.replace(\"｣\",\"\")\n",
    "    \n",
    "    #白カッコがあるか\n",
    "    df[\"is_whitekakko\"] = df[\"text\"].str.contains(\"『\")\n",
    "    df[\"is_whitekakko\"] = (df[\"is_whitekakko\"]*1).astype(np.float64)\n",
    "    df[\"text\"] = df[\"text\"].str.replace(\"『\",\"\")\n",
    "    df[\"text\"] = df[\"text\"].str.replace(\"』\",\"\")\n",
    "    \n",
    "    #vol.数字があるかどうか\n",
    "    df[\"is_vol\"] = df[\"text\"].str.contains(\"vol.0\")\n",
    "    df[\"is_vol\"] = (df[\"is_vol\"]*1).astype(np.float64)\n",
    "    df[\"text\"] = df[\"text\"].str.replace(\"vol.0\",\"\")\n",
    "    \n",
    "    #スポーツウォッチか\n",
    "    df[\"is_sports\"] = df[\"text\"].str.contains(\"sports watch\")\n",
    "    df[\"is_sports\"] = (df[\"is_sports\"]*1).astype(np.float64)\n",
    "    df[\"text\"] = df[\"text\"].str.replace(\"sports watch\",\"\")\n",
    "    \n",
    "    return df"
   ]
  },
  {
   "cell_type": "code",
   "execution_count": 7,
   "metadata": {},
   "outputs": [],
   "source": [
    "#テキストのクリーニング\n",
    "def cleaning(df):\n",
    "    #urlの削除\n",
    "    #df[\"text\"] = df[\"text\"].replace(r'(https?://[\\w/:%#\\$&\\?\\(\\)~\\.=\\+\\-]+)',\"\",regex=True)\n",
    "    #改行コードの削除\n",
    "    df[\"text\"] = df[\"text\"].replace(\"\\\\u3000\",'')\n",
    "    #全角スペースを半角スペースに\n",
    "    df[\"text\"] = jaconv.z2h(df[\"text\"].str,digit=True, ascii = True) \n",
    "    #大文字を小文字に\n",
    "    df[\"text\"] = df[\"text\"].str.lower()\n",
    "    #数字を0に置き換える\n",
    "    df[\"text\"] = df[\"text\"].str.replace(r'([0-9])',\"0\",regex = True)    \n",
    "    df[\"text\"]\n",
    "\n",
    "    return df"
   ]
  },
  {
   "cell_type": "code",
   "execution_count": 8,
   "metadata": {},
   "outputs": [],
   "source": [
    "#1文字の単語を消す\n",
    "def del_one(df):\n",
    "    delonelist = list()\n",
    "    for i in range(df.shape[0]):\n",
    "        wakati = df[\"text_wakati\"].values[i]\n",
    "        del_one = \"\"\n",
    "        for idx in range(len(wakati)):\n",
    "            if len(str(wakati[idx])) > 1:\n",
    "                del_one += (wakati[idx]+\" \")\n",
    "        delonelist.append(np.array(del_one))\n",
    "    df[\"text_del_one\"] = np.array(delonelist)\n",
    "    return df"
   ]
  },
  {
   "cell_type": "code",
   "execution_count": 9,
   "metadata": {},
   "outputs": [],
   "source": [
    "from janome.tokenizer import Tokenizer\n",
    "def wakati(df):\n",
    "    df[\"text_wakati\"] = str()\n",
    "    t= Tokenizer()\n",
    "\n",
    "    for idx in range(0,df.shape[0]):\n",
    "        df[\"text_wakati\"].loc[idx] = [token.base_form for token in t.tokenize(df[\"text\"].loc[idx])]\n",
    "    return df"
   ]
  },
  {
   "cell_type": "code",
   "execution_count": 10,
   "metadata": {},
   "outputs": [],
   "source": [
    "\n",
    "#wakati をスペース区切りのstrに変換\n",
    "def wakati_toString(df):\n",
    "    wakati_str = list()\n",
    "    for i in range(df.shape[0]):\n",
    "        wakati = df[\"text_wakati\"].values[i]\n",
    "        s = \"\"\n",
    "        for idx in range(len(wakati)):\n",
    "            s += (wakati[idx]+\" \")\n",
    "        wakati_str.append(np.array(s))\n",
    "    df[\"text_wakati\"] = np.array(wakati_str)\n",
    "    return df"
   ]
  },
  {
   "cell_type": "code",
   "execution_count": 25,
   "metadata": {},
   "outputs": [],
   "source": [
    "\n",
    "#DataFrame変換\n",
    "train_df = pd.DataFrame({\"flg\":t_train,\"text\":x_train})\n",
    "dev_df = pd.DataFrame({\"flg\":t_dev,\"text\":x_dev})\n",
    "test_df = pd.DataFrame({\"flg\":t_test,\"text\":x_test})\n",
    "test_df\n",
    "\n",
    "#メソッド適用\n",
    "train_df = cleaning(train_df)\n",
    "dev_df= cleaning(dev_df)\n",
    "test_df = cleaning(test_df)\n",
    "\n",
    "train_df = add_flags_nums(train_df)\n",
    "dev_df = add_flags_nums(dev_df)\n",
    "test_df = add_flags_nums(test_df)\n",
    "\n",
    "train_df = wakati(train_df)\n",
    "dev_df = wakati(dev_df)\n",
    "test_df = wakati(test_df)\n",
    "\n",
    "train_df = del_one(train_df)\n",
    "dev_df = del_one(dev_df)\n",
    "test_df = del_one(test_df)\n",
    "\n",
    "train_df = wakati_toString(train_df)\n",
    "dev_df = wakati_toString(dev_df)\n",
    "test_df = wakati_toString(test_df)\n",
    "\n",
    "train_df.to_csv(\"./preprosessing_train.csv\")\n",
    "dev_df.to_csv(\"./preprosessing_dev.csv\")\n",
    "test_df.to_csv(\"./preprosessing_test.csv\")"
   ]
  },
  {
   "cell_type": "code",
   "execution_count": 12,
   "metadata": {},
   "outputs": [
    {
     "data": {
      "text/plain": [
       "Index(['flg', 'text', 'text_length', 'is_year', 'is_month', 'is_date',\n",
       "       'is_time', 'num_hatena', 'num_bikkuri', 'is_eiga', 'is_henkakko',\n",
       "       'is_normalkakko', 'is_whitekakko', 'is_vol', 'is sports', 'text_wakati',\n",
       "       'text_del_one'],\n",
       "      dtype='object')"
      ]
     },
     "execution_count": 12,
     "metadata": {},
     "output_type": "execute_result"
    }
   ],
   "source": [
    "train_df.columns"
   ]
  },
  {
   "cell_type": "code",
   "execution_count": 26,
   "metadata": {},
   "outputs": [],
   "source": [
    "X_df_train = train_df[['text_length', 'is_year', 'is_month', 'is_date',\n",
    "       'is_time', 'num_hatena', 'num_bikkuri', 'is_eiga', 'is_henkakko',\n",
    "       'is_normalkakko', 'is_whitekakko', 'is_vol', 'is_sports',\n",
    "       'text_del_one']]\n",
    "Y_df_train = train_df[\"flg\"].astype(np.int64)\n",
    "X_train =  X_df_train.values\n",
    "y_train = Y_df_train.values"
   ]
  },
  {
   "cell_type": "code",
   "execution_count": 28,
   "metadata": {},
   "outputs": [],
   "source": [
    "X_df_test = test_df[['text_length', 'is_year', 'is_month', 'is_date',\n",
    "       'is_time', 'num_hatena', 'num_bikkuri', 'is_eiga', 'is_henkakko',\n",
    "       'is_normalkakko', 'is_whitekakko', 'is_vol', 'is_sports',\n",
    "       'text_del_one']]\n",
    "Y_df_test = test_df[\"flg\"].astype(np.int64)\n",
    "X_test =  X_df_test.values\n",
    "Y_test = Y_df_test.values"
   ]
  },
  {
   "cell_type": "code",
   "execution_count": 32,
   "metadata": {},
   "outputs": [],
   "source": [
    "from sklearn.feature_extraction.text import TfidfVectorizer, CountVectorizer\n",
    "cv = CountVectorizer()\n",
    "# トレーニング用データにCountVectorizerを適用\n",
    "X_train = cv.fit_transform(X_train[:,13])\n",
    "# バリデーション用データにCountVectorizerを適用\n",
    "X_test = cv.transform(X_test[:,13])"
   ]
  },
  {
   "cell_type": "code",
   "execution_count": 33,
   "metadata": {},
   "outputs": [
    {
     "data": {
      "text/plain": [
       "RandomForestClassifier(n_estimators=500, random_state=1)"
      ]
     },
     "execution_count": 33,
     "metadata": {},
     "output_type": "execute_result"
    }
   ],
   "source": [
    "\n",
    "from sklearn.linear_model import LogisticRegression\n",
    "from sklearn.ensemble import RandomForestClassifier\n",
    "model = RandomForestClassifier(n_estimators=500,\n",
    "                                    random_state=1)\n",
    "model.fit(X_train, y_train)"
   ]
  },
  {
   "cell_type": "code",
   "execution_count": 40,
   "metadata": {},
   "outputs": [],
   "source": [
    "from sklearn.metrics import confusion_matrix\n",
    "from sklearn.metrics import accuracy_score ,precision_score, recall_score,f1_score\n",
    "import seaborn as sns\n",
    "def result_heatmap(Y_test,Y_pred):\n",
    "    print(\"正解率:\"+str(accuracy_score(Y_test, Y_pred)))\n",
    "    cm = confusion_matrix(Y_test, Y_pred)\n",
    "    sns.heatmap(cm,annot=True, cmap='Blues')"
   ]
  },
  {
   "cell_type": "code",
   "execution_count": 42,
   "metadata": {},
   "outputs": [
    {
     "name": "stdout",
     "output_type": "stream",
     "text": [
      "正解率:0.668\n"
     ]
    },
    {
     "data": {
      "image/png": "[encoded data removed]",
      "text/plain": [
       "<Figure size 432x288 with 2 Axes>"
      ]
     },
     "metadata": {
      "needs_background": "light"
     },
     "output_type": "display_data"
    }
   ],
   "source": [
    "#普通にやると全部違う方に分類される\n",
    "result_heatmap(Y_test,y_pred)\n"
   ]
  }
 ],
 "metadata": {
  "kernelspec": {
   "display_name": "Python 3",
   "language": "python",
   "name": "python3"
  },
  "language_info": {
   "codemirror_mode": {
    "name": "ipython",
    "version": 3
   },
   "file_extension": ".py",
   "mimetype": "text/x-python",
   "name": "python",
   "nbconvert_exporter": "python",
   "pygments_lexer": "ipython3",
   "version": "3.7.1"
  }
 },
 "nbformat": 4,
 "nbformat_minor": 4
}
