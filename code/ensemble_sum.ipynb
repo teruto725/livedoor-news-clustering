{
 "cells": [
  {
   "cell_type": "code",
   "execution_count": 1,
   "metadata": {},
   "outputs": [
    {
     "name": "stdout",
     "output_type": "stream",
     "text": [
      "C:\\Users\\teruto\\Desktop\\sourcecode\\livedoor-news-clustering\n"
     ]
    }
   ],
   "source": [
    "cd ../"
   ]
  },
  {
   "cell_type": "code",
   "execution_count": 2,
   "metadata": {},
   "outputs": [
    {
     "name": "stdout",
     "output_type": "stream",
     "text": [
      "C:\\Users\\teruto\\Desktop\\sourcecode\\livedoor-news-clustering\\data\n"
     ]
    }
   ],
   "source": [
    "cd data"
   ]
  },
  {
   "cell_type": "code",
   "execution_count": 3,
   "metadata": {},
   "outputs": [],
   "source": [
    "import re\n",
    "import numpy as np\n",
    "import matplotlib.pyplot as plt\n",
    "import pandas as pd\n",
    "import seaborn as sns\n",
    "import math"
   ]
  },
  {
   "cell_type": "code",
   "execution_count": 28,
   "metadata": {},
   "outputs": [
    {
     "name": "stdout",
     "output_type": "stream",
     "text": [
      "(500, 9)\n"
     ]
    },
    {
     "data": {
      "text/plain": [
       "array([0.02390054, 0.20285148, 0.28514361, 1.59066606, 0.59961208,\n",
       "       0.01174458, 3.3466807 , 0.11638291, 0.82301804])"
      ]
     },
     "execution_count": 28,
     "metadata": {},
     "output_type": "execute_result"
    }
   ],
   "source": [
    "#加算平均によるアンサンブル学習\n",
    "files = [\"adaboost_1\",\"logistic_1\",\"mlpclassifier_1\",\"randomforest_1\",\"randomforest_2\",\"svm_1\",\"gradientboosting_1\"]\n",
    "X_test = np.zeros((500,9))\n",
    "for f in files:\n",
    "    arr = np.loadtxt('./ensemble/'+f+\".csv\", delimiter=',')\n",
    "    X_test = np.add(X_test,arr)\n",
    "print(X_test.shape)\n"
   ]
  },
  {
   "cell_type": "code",
   "execution_count": 30,
   "metadata": {
    "scrolled": false
   },
   "outputs": [
    {
     "name": "stdout",
     "output_type": "stream",
     "text": [
      "[6 2 1 3 1 0 3 0 5 5 2 2 8 5 2 3 6 2 4 4 5 3 0 2 1 6 1 6 1 7 6 3 3 8 8 1 5\n",
      " 2 1 1 4 3 7 4 6 3 0 3 1 4 8 4 3 0 3 7 6 1 0 4 8 0 7 0 3 7 5 7 7 2 7 5 7 8\n",
      " 5 5 8 0 0 5 6 7 5 6 1 3 2 0 1 3 4 6 7 5 6 4 0 6 4 5 7 6 5 2 8 5 5 8 5 8 5\n",
      " 4 3 8 4 0 4 5 6 4 3 6 1 7 7 8 5 1 6 1 0 3 1 5 8 3 7 7 2 1 7 3 7 1 6 5 5 6\n",
      " 0 6 6 1 3 5 0 6 1 6 3 3 1 1 6 7 2 5 6 6 7 7 6 4 3 0 1 0 6 7 3 1 0 1 1 2 1\n",
      " 3 3 4 8 8 8 1 1 3 6 3 3 3 0 0 1 1 7 0 2 3 3 8 7 7 8 3 1 7 1 8 1 3 5 7 2 0\n",
      " 3 1 0 2 5 1 2 1 0 2 5 3 4 2 8 1 8 1 7 3 6 8 8 8 3 7 2 2 8 0 6 0 2 2 2 7 0\n",
      " 4 7 3 8 3 0 6 1 0 5 6 0 3 6 3 3 0 6 2 3 4 7 6 2 2 7 6 2 0 2 2 0 3 3 8 3 0\n",
      " 7 8 0 3 6 4 1 7 7 2 8 4 6 6 7 8 1 5 4 3 1 8 7 5 7 0 3 6 4 0 8 3 5 2 4 7 5\n",
      " 3 3 8 8 4 7 2 4 0 2 7 2 4 8 3 0 2 5 5 5 2 1 8 7 6 3 2 3 2 1 3 7 1 2 6 5 0\n",
      " 1 3 3 0 5 7 2 7 3 7 3 7 3 7 2 3 1 5 1 6 2 8 2 2 5 7 3 7 5 0 7 1 1 5 5 1 3\n",
      " 0 0 7 2 1 6 1 7 6 3 5 4 2 1 7 1 5 6 8 1 5 1 1 7 1 6 5 6 6 1 8 6 3 5 3 1 4\n",
      " 5 6 7 1 8 6 8 6 5 7 8 8 5 6 7 2 8 0 8 5 1 1 5 2 8 2 0 6 8 8 0 5 8 6 6 3 3\n",
      " 5 6 3 3 7 6 0 2 0 1 5 0 6 6 8 5 1 0 3]\n"
     ]
    }
   ],
   "source": [
    "y_pred = np.argmax(X_test, axis=1)\n",
    "print(y_pred)"
   ]
  },
  {
   "cell_type": "code",
   "execution_count": 33,
   "metadata": {},
   "outputs": [],
   "source": [
    "test_df = pd.read_csv('./preprosessing_test.csv')\n",
    "\n",
    "Y_df_test = test_df[\"flg\"].astype(np.int64)\n",
    "y_test = Y_df_test.values"
   ]
  },
  {
   "cell_type": "code",
   "execution_count": 31,
   "metadata": {},
   "outputs": [],
   "source": [
    "#混合行列\n",
    "from sklearn.metrics import confusion_matrix\n",
    "from sklearn.metrics import accuracy_score ,precision_score, recall_score,f1_score\n",
    "import seaborn as sns\n",
    "def result_heatmap(Y_test,Y_pred):\n",
    "    print(\"正解率:\"+str(accuracy_score(Y_test, Y_pred)))\n",
    "    cm = confusion_matrix(Y_test, Y_pred)\n",
    "    #print(cm)\n",
    "    sns.heatmap(cm,annot=True, cmap='Blues')"
   ]
  },
  {
   "cell_type": "code",
   "execution_count": 34,
   "metadata": {},
   "outputs": [
    {
     "name": "stdout",
     "output_type": "stream",
     "text": [
      "正解率:0.788\n"
     ]
    },
    {
     "data": {
      "image/png": "[encoded data removed]",
      "text/plain": [
       "<Figure size 432x288 with 2 Axes>"
      ]
     },
     "metadata": {
      "needs_background": "light"
     },
     "output_type": "display_data"
    }
   ],
   "source": [
    "result_heatmap(y_test,y_pred)"
   ]
  }
 ],
 "metadata": {
  "kernelspec": {
   "display_name": "Python 3",
   "language": "python",
   "name": "python3"
  },
  "language_info": {
   "codemirror_mode": {
    "name": "ipython",
    "version": 3
   },
   "file_extension": ".py",
   "mimetype": "text/x-python",
   "name": "python",
   "nbconvert_exporter": "python",
   "pygments_lexer": "ipython3",
   "version": "3.7.1"
  }
 },
 "nbformat": 4,
 "nbformat_minor": 4
}
